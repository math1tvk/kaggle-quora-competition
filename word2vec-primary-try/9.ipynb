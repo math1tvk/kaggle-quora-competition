{
 "cells": [
  {
   "cell_type": "code",
   "execution_count": 24,
   "metadata": {
    "collapsed": false
   },
   "outputs": [],
   "source": [
    "\"\"\"module docstring\"\"\"\n",
    "\n",
    "# imports\n",
    "import sys\n",
    "import gensim\n",
    "import math\n",
    "import pandas as pd\n",
    "from sklearn.ensemble import RandomForestClassifier\n",
    "from sklearn.metrics import roc_curve, auc\n",
    "from sklearn.model_selection import train_test_split\n",
    "from sklearn.metrics import log_loss\n",
    "#from sklearn.preprocessing import Imputer\n",
    "\n",
    "# import os\n",
    "# import csv\n",
    "import re\n",
    "from nltk.corpus import stopwords\n",
    "import numpy as np\n",
    "\n",
    "\n",
    "\n",
    "\n",
    "# exception classes\n",
    "\n",
    "# interface functions\n",
    "\n",
    "# classes"
   ]
  },
  {
   "cell_type": "code",
   "execution_count": 3,
   "metadata": {
    "collapsed": true
   },
   "outputs": [],
   "source": [
    "# internal functions & classes"
   ]
  },
  {
   "cell_type": "code",
   "execution_count": 4,
   "metadata": {
    "collapsed": true
   },
   "outputs": [],
   "source": [
    "# extracts word vectors from a question\n",
    "\n",
    "def question2words(question, stops):\n",
    "    \"\"\"\n",
    "    :param question: single question string\n",
    "    :return:\n",
    "    This function converts a raw question to a string of words\n",
    "    \"\"\"\n",
    "    # remove non-letters => C vs C++\n",
    "    letters_only = re.sub(\"[^a-zA-Z]\", \" \", question)\n",
    "\n",
    "    # convert to lower case, split into separate words\n",
    "    words = letters_only.lower().split(\" \")\n",
    "\n",
    "    # remove stop words\n",
    "    meaningful_words = [w for w in words if (not (w in stops or len(w)<2))]\n",
    "\n",
    "    # return an array of meaningful words\n",
    "    return (meaningful_words)\n",
    "\n",
    "def qwords2vector(words, model, index2word_set, num_features):\n",
    "    \"\"\"\n",
    "    Function to average all of the word vectors in a given question\n",
    "\n",
    "    :param words:\n",
    "    :param model:\n",
    "    :param index2word_set:\n",
    "    :param num_features:\n",
    "    :return:\n",
    "    \"\"\"\n",
    "\n",
    "    # Pre-initialize an empty numpy array (for speed)\n",
    "    featureVec = np.zeros((num_features,),dtype=\"float32\")\n",
    "    #\n",
    "    nwords = 0\n",
    "\n",
    "    # Loop over each word in the question and, if it is in the model's\n",
    "    # vocaublary, add its feature vector to the total\n",
    "\n",
    "    for word in words:\n",
    "        if word in index2word_set:\n",
    "            nwords = nwords + 1.\n",
    "            featureVec = np.add(featureVec,model[word])\n",
    "    #\n",
    "    # Divide the result by the number of words to get the average\n",
    "    if nwords == 0:\n",
    "        return featureVec\n",
    "\n",
    "    featureVec = np.divide(featureVec,nwords)\n",
    "    return featureVec\n",
    "\n",
    "def qwords2vectorOfvectors(words, model, index2word_set, num_features):\n",
    "    \"\"\"\n",
    "    Function to average all of the word vectors in a given question\n",
    "\n",
    "    :param words:\n",
    "    :param model:\n",
    "    :param index2word_set:\n",
    "    :param num_features:\n",
    "    :return:\n",
    "    \"\"\"\n",
    "    return [model[w] for w in words if w in index2word_set]\n",
    "\n",
    "def cos_dis(x,y):\n",
    "    x_abs = math.sqrt(sum([i*i for i in x]))\n",
    "    y_abs = math.sqrt(sum([i*i for i in y]))\n",
    "    normal_factor = x_abs * y_abs\n",
    "\n",
    "    if normal_factor == 0:\n",
    "        return 0.0\n",
    "\n",
    "    return sum([abs(x1-y1) for x1,y1 in zip(x,y)])/normal_factor\n",
    "\n",
    "def argmax(lst):\n",
    "  return lst.index(max(lst))\n",
    "\n",
    "def find_best_matched(word, question):\n",
    "    return argmax([cos_dis(word,pair) for pair in question])\n",
    "\n",
    "def abs_dist(x,y): #vector of vectors, and vector of words\n",
    "   return [abs(x1-y1) for x1,y1 in zip(x,y)]"
   ]
  },
  {
   "cell_type": "code",
   "execution_count": 5,
   "metadata": {
    "collapsed": true
   },
   "outputs": [],
   "source": [
    "# Main\n",
    "\n",
    "## embedding model\n",
    "model = gensim.models.KeyedVectors.load_word2vec_format('./GoogleNews-vectors-negative300.bin', binary=True)"
   ]
  },
  {
   "cell_type": "code",
   "execution_count": 6,
   "metadata": {
    "collapsed": true
   },
   "outputs": [],
   "source": [
    "## Load data ##\n",
    "train_address = \"../Data/train.csv\"\n",
    "test_address = \"../Data/test.csv\"\n",
    "\n",
    "train_data = pd.read_csv(train_address)\n",
    "#test_data = pd.read_csv(test_address)"
   ]
  },
  {
   "cell_type": "code",
   "execution_count": 7,
   "metadata": {
    "collapsed": false
   },
   "outputs": [
    {
     "name": "stdout",
     "output_type": "stream",
     "text": [
      "['id', 'qid1', 'qid2', 'question1', 'question2', 'is_duplicate']\n"
     ]
    }
   ],
   "source": [
    "print(list(train_data))\n",
    "#print(list(test_data))"
   ]
  },
  {
   "cell_type": "code",
   "execution_count": 8,
   "metadata": {
    "collapsed": true
   },
   "outputs": [],
   "source": [
    "## separate input and result\n",
    "\n",
    "# columns: ['test_id', 'question1', 'question2', 'is_duplicate']\n",
    "#test_id = test_data['test_id']\n",
    "#test_question1 = test_data['question1']\n",
    "#test_question2 = test_data['question2']\n",
    "\n",
    "# columns: ['id', 'qid1', 'qid2', 'question1', 'question2', 'is_duplicate']\n",
    "train_id = train_data['id']\n",
    "train_qid1 = train_data['qid1']\n",
    "train_qid2 = train_data['qid2']\n",
    "train_question1 = train_data['question1']\n",
    "train_question2 = train_data['question2']\n",
    "train_is_duplicate = train_data['is_duplicate']"
   ]
  },
  {
   "cell_type": "code",
   "execution_count": 9,
   "metadata": {
    "collapsed": true
   },
   "outputs": [],
   "source": [
    "## clean the input\n",
    "# In Python, searching a set is much faster than searching\n",
    "#   a list, so convert the stop words to a set\n",
    "stops = set(stopwords.words(\"english\"))\n",
    "\n",
    "clean_train_question1 = [question2words(str(x),stops) for x in train_question1]\n",
    "clean_train_question2 = [question2words(str(x),stops) for x in train_question2]\n",
    "\n",
    "#clean_test_question1 = [question2words(str(x),stops) for x in test_question1]\n",
    "#clean_test_question2 = [question2words(str(x),stops) for x in test_question2]"
   ]
  },
  {
   "cell_type": "code",
   "execution_count": 11,
   "metadata": {
    "collapsed": true
   },
   "outputs": [],
   "source": [
    "# Index2word is a list that contains the names of the words in\n",
    "# the model's vocabulary. Convert it to a set, for speed\n",
    "index2word_set = set(model.index2word)\n",
    "num_features = 300\n",
    "\n",
    "\n",
    "## convert to vector\n",
    "vectors_train_question1 = [qwords2vector(x, model, index2word_set, num_features) for x in clean_train_question1]\n",
    "vectors_train_question2 = [qwords2vector(x, model, index2word_set, num_features) for x in clean_train_question2]\n",
    "\n",
    "#vectors_test_question1 = [qwords2vector(x, model, index2word_set, num_features) for x in clean_test_question1]\n",
    "#vectors_test_question2 = [qwords2vector(x, model, index2word_set, num_features) for x in clean_test_question2]"
   ]
  },
  {
   "cell_type": "code",
   "execution_count": 12,
   "metadata": {
    "collapsed": false
   },
   "outputs": [],
   "source": [
    "## compute the distance of question 1 and question 2\n",
    "train_distance_q1_q2 = [abs_dist(x,y) for x,y in zip(vectors_train_question1,vectors_train_question2)]\n",
    "#test_distance_q1_q2 = [abs_dist(x,y) for x,y in zip(vectors_test_question1,vectors_test_question2)]"
   ]
  },
  {
   "cell_type": "code",
   "execution_count": 13,
   "metadata": {
    "collapsed": true
   },
   "outputs": [],
   "source": [
    "train_features = train_distance_q1_q2\n",
    "train_result = train_is_duplicate"
   ]
  },
  {
   "cell_type": "code",
   "execution_count": 14,
   "metadata": {
    "collapsed": true
   },
   "outputs": [],
   "source": [
    "X_train, X_test, y_train, y_test = train_test_split(train_features, train_result, test_size=0.2, random_state=4322)"
   ]
  },
  {
   "cell_type": "code",
   "execution_count": 16,
   "metadata": {
    "collapsed": false
   },
   "outputs": [
    {
     "name": "stdout",
     "output_type": "stream",
     "text": [
      "Fitting a random forest to labeled training data...\n"
     ]
    }
   ],
   "source": [
    "\n",
    "#test_features = test_distance_q1_q2\n",
    "\n",
    "# Fit a random forest to the training data, using 1000 trees\n",
    "forest = RandomForestClassifier(n_estimators = 100)\n",
    "\n",
    "\n",
    "print(\"Fitting a random forest to labeled training data...\")\n",
    "forest = forest.fit(X_train, y_train)"
   ]
  },
  {
   "cell_type": "code",
   "execution_count": 28,
   "metadata": {
    "collapsed": false
   },
   "outputs": [
    {
     "name": "stdout",
     "output_type": "stream",
     "text": [
      "test_roc_auc =  0.76416204888\n",
      "test_log_loss =  0.76416204888\n"
     ]
    }
   ],
   "source": [
    "## output ## \n",
    "#test_id,is_duplicate\n",
    "#0,0.5\n",
    "#1,0.4\n",
    "#2,0.9\n",
    "\n",
    "result_prob_tst = forest.predict_proba(X_test)\n",
    "#output generation\n",
    "\n"
   ]
  },
  {
   "cell_type": "code",
   "execution_count": 39,
   "metadata": {
    "collapsed": false
   },
   "outputs": [
    {
     "name": "stdout",
     "output_type": "stream",
     "text": [
      "test_roc_auc =  0.76416204888\n",
      "test_log_loss =  0.560872901297\n"
     ]
    }
   ],
   "source": [
    "false_positive_rate, true_positive_rate, thresholds = roc_curve(y_test, result_prob_tst[:, 1])\n",
    "roc_auc = auc(false_positive_rate, true_positive_rate) #0.66166516195753156\n",
    "\n",
    "lglss = log_loss(y_test, result_prob_tst[:, 1])\n",
    "\n",
    "print(\"test_roc_auc = \",str(roc_auc))\n",
    "print(\"test_log_loss = \",str(lglss))"
   ]
  },
  {
   "cell_type": "code",
   "execution_count": 58,
   "metadata": {
    "collapsed": false
   },
   "outputs": [
    {
     "name": "stdout",
     "output_type": "stream",
     "text": [
      "80858\n"
     ]
    }
   ],
   "source": [
    "length = len(result_prob_tst[:, 1])\n",
    "print(length)\n",
    "\n",
    "#test_id = list(range(1,length+1))\n",
    "#output_result = pd.DataFrame(test_id,result_prob_tst[:, 1])\n",
    "#output_result.columns=['test_id','is_duplicate']\n",
    "output_result = pd.DataFrame(result_prob_tst[:, 1])\n",
    "output_result.columns=['is_duplicate']\n",
    "output_result.to_csv(\"output_1.csv\")"
   ]
  },
  {
   "cell_type": "code",
   "execution_count": null,
   "metadata": {
    "collapsed": true
   },
   "outputs": [],
   "source": []
  }
 ],
 "metadata": {
  "kernelspec": {
   "display_name": "Python 3",
   "language": "python",
   "name": "python3"
  },
  "language_info": {
   "codemirror_mode": {
    "name": "ipython",
    "version": 3
   },
   "file_extension": ".py",
   "mimetype": "text/x-python",
   "name": "python",
   "nbconvert_exporter": "python",
   "pygments_lexer": "ipython3",
   "version": "3.6.0"
  }
 },
 "nbformat": 4,
 "nbformat_minor": 2
}
